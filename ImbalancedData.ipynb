{
 "cells": [
  {
   "cell_type": "code",
   "execution_count": 1,
   "id": "fe4c6814-f080-4f0c-8216-1561c4b442e1",
   "metadata": {},
   "outputs": [],
   "source": [
    "import os\n",
    "os.environ['TF_CPP_MIN_LOG_LEVEL'] = '2'"
   ]
  },
  {
   "cell_type": "code",
   "execution_count": 2,
   "id": "04bde7b1-6cc1-429c-ad17-027f0cfbabea",
   "metadata": {},
   "outputs": [
    {
     "name": "stderr",
     "output_type": "stream",
     "text": [
      "2024-05-06 03:13:11.766633: E external/local_xla/xla/stream_executor/cuda/cuda_dnn.cc:9261] Unable to register cuDNN factory: Attempting to register factory for plugin cuDNN when one has already been registered\n",
      "2024-05-06 03:13:11.766656: E external/local_xla/xla/stream_executor/cuda/cuda_fft.cc:607] Unable to register cuFFT factory: Attempting to register factory for plugin cuFFT when one has already been registered\n",
      "2024-05-06 03:13:11.767357: E external/local_xla/xla/stream_executor/cuda/cuda_blas.cc:1515] Unable to register cuBLAS factory: Attempting to register factory for plugin cuBLAS when one has already been registered\n"
     ]
    }
   ],
   "source": [
    "import csv\n",
    "import numpy as np\n",
    "from sklearn.metrics import precision_score, recall_score, f1_score\n",
    "import keras\n",
    "from sklearn.metrics import classification_report\n",
    "from sklearn.metrics import confusion_matrix\n",
    "import seaborn as sns\n",
    "import tensorflow as tf"
   ]
  },
  {
   "cell_type": "code",
   "execution_count": 22,
   "id": "b2a4a0bf-4610-433d-ada9-b38f6200704d",
   "metadata": {},
   "outputs": [
    {
     "name": "stdout",
     "output_type": "stream",
     "text": [
      "HEADER: \"Time\",\"V1\",\"V2\",\"V3\",\"V4\",\"V5\",\"V6\",\"V7\",\"V8\",\"V9\",\"V10\",\"V11\",\"V12\",\"V13\",\"V14\",\"V15\",\"V16\",\"V17\",\"V18\",\"V19\",\"V20\",\"V21\",\"V22\",\"V23\",\"V24\",\"V25\",\"V26\",\"V27\",\"V28\",\"Amount\",\"Class\"\n",
      "EXAMPLE FEATURES: [0.0, -1.3598071336738, -0.0727811733098497, 2.53634673796914, 1.37815522427443, -0.338320769942518, 0.462387777762292, 0.239598554061257, 0.0986979012610507, 0.363786969611213, 0.0907941719789316, -0.551599533260813, -0.617800855762348, -0.991389847235408, -0.311169353699879, 1.46817697209427, -0.470400525259478, 0.207971241929242, 0.0257905801985591, 0.403992960255733, 0.251412098239705, -0.018306777944153, 0.277837575558899, -0.110473910188767, 0.0669280749146731, 0.128539358273528, -0.189114843888824, 0.133558376740387, -0.0210530534538215, 149.62]\n",
      "shuffled_features.shape: (284807, 30)\n",
      "shuffled_targets.shape: (284807, 2)\n"
     ]
    }
   ],
   "source": [
    "import numpy as np\n",
    "\n",
    "fname = \"archive/creditcard.csv\"\n",
    "\n",
    "all_features = []\n",
    "all_targets = []\n",
    "with open(fname) as f:\n",
    "    for i, line in enumerate(f):\n",
    "        if i == 0:\n",
    "            print(\"HEADER:\", line.strip())\n",
    "            continue\n",
    "        fields = line.strip().split(\",\")\n",
    "        all_features.append([float(v.replace('\"', \"\")) for v in fields[:-1]])\n",
    "        all_targets.append([int(fields[-1].replace('\"', \"\"))])\n",
    "        if i == 1:\n",
    "            print(\"EXAMPLE FEATURES:\", all_features[-1])\n",
    "\n",
    "features = np.array(all_features, dtype=\"float32\")\n",
    "targets = np.array(all_targets, dtype=\"uint8\")\n",
    "targets = keras.utils.to_categorical(targets)\n",
    "\n",
    "num_samples = features.shape[0]\n",
    "indices = np.random.permutation(num_samples)\n",
    "shuffled_features = features[indices]\n",
    "shuffled_targets = targets[indices]\n",
    "\n",
    "print(\"shuffled_features.shape:\", shuffled_features.shape)\n",
    "print(\"shuffled_targets.shape:\", shuffled_targets.shape)\n"
   ]
  },
  {
   "cell_type": "code",
   "execution_count": 23,
   "id": "df080ed8-8154-49c8-bc08-88c37a32eed2",
   "metadata": {},
   "outputs": [],
   "source": [
    "from sklearn.model_selection import train_test_split\n",
    "train_features ,val_features ,train_targets ,val_targets = train_test_split(features ,\n",
    "                                                                            targets , test_size=0.2 , random_state=42)"
   ]
  },
  {
   "cell_type": "code",
   "execution_count": 24,
   "id": "2759859c-f984-471b-abfc-6cdfe8d69a34",
   "metadata": {},
   "outputs": [
    {
     "name": "stdout",
     "output_type": "stream",
     "text": [
      "Number of training samples: 227845\n",
      "Number of validation samples: 56962\n"
     ]
    }
   ],
   "source": [
    "print(\"Number of training samples:\", len(train_features))\n",
    "print(\"Number of validation samples:\", len(val_features))"
   ]
  },
  {
   "cell_type": "code",
   "execution_count": 25,
   "id": "77483d0c-3f5d-487f-bab3-9a9b0d07adff",
   "metadata": {},
   "outputs": [
    {
     "name": "stdout",
     "output_type": "stream",
     "text": [
      "Number of positive samples in training data: 227451 (99.83% of total)\n"
     ]
    }
   ],
   "source": [
    "counts = np.bincount(train_targets[:, 0].astype('int32'))\n",
    "print(\n",
    "    \"Number of positive samples in training data: {} ({:.2f}% of total)\".format(\n",
    "        counts[1], 100 * float(counts[1]) / len(train_targets)\n",
    "    )\n",
    ")\n",
    "\n",
    "weight_for_0 = 1.0 / counts[1]\n",
    "weight_for_1 = 1.0 / counts[0]"
   ]
  },
  {
   "cell_type": "code",
   "execution_count": 26,
   "id": "92f0268f-927b-4e9e-95c4-d4f916dd89c1",
   "metadata": {},
   "outputs": [],
   "source": [
    "train_targets = train_targets.astype('float32')\n",
    "val_targets = val_targets.astype('float32')\n",
    "train_features = train_features.astype('float32')\n",
    "val_features = val_features.astype('float32')\n",
    "\n",
    "\n",
    "\n",
    "train_targets_onehot = keras.utils.to_categorical(train_targets)\n",
    "val_targets_onehot = keras.utils.to_categorical(val_targets)\n",
    "\n",
    "\n",
    "\n",
    "\n",
    "mean = np.mean(train_features, axis=0)\n",
    "\n",
    "\n",
    "\n",
    "train_features -= mean\n",
    "val_features -= mean\n",
    "\n",
    "std = np.std(train_features, axis=0)\n",
    "\n",
    "train_features /= std\n",
    "val_features /= std"
   ]
  },
  {
   "cell_type": "code",
   "execution_count": 27,
   "id": "d0a07096-e876-470d-97c5-74f1c06432cf",
   "metadata": {},
   "outputs": [],
   "source": [
    "def calculate_fscore(model, features, targets):\n",
    "    predictions = model.predict(features)\n",
    "    predictions = (predictions > 0.5).astype(int)\n",
    "    precision = precision_score(targets, predictions)\n",
    "    recall = recall_score(targets, predictions)\n",
    "    fscore = f1_score(targets, predictions)\n",
    "    \n",
    "    return precision, recall, fscore"
   ]
  },
  {
   "cell_type": "markdown",
   "id": "a6974e15-207d-46e7-83e7-47100fd04729",
   "metadata": {},
   "source": [
    "## With Weight"
   ]
  },
  {
   "cell_type": "code",
   "execution_count": 28,
   "id": "8d0f6a88-18a9-4247-986c-09fa1ca175c5",
   "metadata": {},
   "outputs": [
    {
     "name": "stdout",
     "output_type": "stream",
     "text": [
      "Epoch 1/30\n",
      "112/112 [==============================] - 1s 5ms/step - loss: 3.2810e-06 - f1score: 0.4436 - val_loss: 0.2729 - val_f1score: 0.5438\n",
      "Epoch 2/30\n",
      "112/112 [==============================] - 0s 3ms/step - loss: 1.8473e-06 - f1score: 0.5473 - val_loss: 0.1491 - val_f1score: 0.5633\n",
      "Epoch 3/30\n",
      "112/112 [==============================] - 0s 3ms/step - loss: 1.5580e-06 - f1score: 0.5535 - val_loss: 0.1623 - val_f1score: 0.5386\n",
      "Epoch 4/30\n",
      "112/112 [==============================] - 0s 3ms/step - loss: 1.3306e-06 - f1score: 0.5406 - val_loss: 0.1182 - val_f1score: 0.5496\n",
      "Epoch 5/30\n",
      "112/112 [==============================] - 0s 3ms/step - loss: 1.2638e-06 - f1score: 0.5482 - val_loss: 0.1201 - val_f1score: 0.5392\n",
      "Epoch 6/30\n",
      "112/112 [==============================] - 0s 3ms/step - loss: 1.3470e-06 - f1score: 0.5364 - val_loss: 0.1380 - val_f1score: 0.5307\n",
      "Epoch 7/30\n",
      "112/112 [==============================] - 0s 3ms/step - loss: 1.0757e-06 - f1score: 0.5501 - val_loss: 0.1022 - val_f1score: 0.5454\n",
      "Epoch 8/30\n",
      "112/112 [==============================] - 0s 3ms/step - loss: 1.1143e-06 - f1score: 0.5449 - val_loss: 0.1335 - val_f1score: 0.5272\n",
      "Epoch 9/30\n",
      "112/112 [==============================] - 0s 3ms/step - loss: 1.0133e-06 - f1score: 0.5478 - val_loss: 0.1028 - val_f1score: 0.5413\n",
      "Epoch 10/30\n",
      "112/112 [==============================] - 0s 3ms/step - loss: 1.0274e-06 - f1score: 0.5397 - val_loss: 0.0748 - val_f1score: 0.5719\n",
      "Epoch 11/30\n",
      "112/112 [==============================] - 0s 3ms/step - loss: 8.9692e-07 - f1score: 0.5515 - val_loss: 0.1010 - val_f1score: 0.5384\n",
      "Epoch 12/30\n",
      "112/112 [==============================] - 0s 3ms/step - loss: 8.9853e-07 - f1score: 0.5492 - val_loss: 0.0735 - val_f1score: 0.5589\n",
      "Epoch 13/30\n",
      "112/112 [==============================] - 0s 3ms/step - loss: 7.7202e-07 - f1score: 0.5586 - val_loss: 0.0670 - val_f1score: 0.5621\n",
      "Epoch 14/30\n",
      "112/112 [==============================] - 0s 3ms/step - loss: 8.4640e-07 - f1score: 0.5591 - val_loss: 0.0927 - val_f1score: 0.5361\n",
      "Epoch 15/30\n",
      "112/112 [==============================] - 0s 3ms/step - loss: 8.0707e-07 - f1score: 0.5462 - val_loss: 0.0784 - val_f1score: 0.5478\n",
      "Epoch 16/30\n",
      "112/112 [==============================] - 0s 3ms/step - loss: 7.0260e-07 - f1score: 0.5558 - val_loss: 0.0668 - val_f1score: 0.5550\n",
      "Epoch 17/30\n",
      "112/112 [==============================] - 0s 3ms/step - loss: 6.8632e-07 - f1score: 0.5593 - val_loss: 0.0825 - val_f1score: 0.5430\n",
      "Epoch 18/30\n",
      "112/112 [==============================] - 0s 3ms/step - loss: 7.0291e-07 - f1score: 0.5527 - val_loss: 0.0692 - val_f1score: 0.5496\n",
      "Epoch 19/30\n",
      "112/112 [==============================] - 0s 3ms/step - loss: 7.0892e-07 - f1score: 0.5523 - val_loss: 0.0655 - val_f1score: 0.5594\n",
      "Epoch 20/30\n",
      "112/112 [==============================] - 0s 3ms/step - loss: 7.1726e-07 - f1score: 0.5543 - val_loss: 0.1549 - val_f1score: 0.5144\n",
      "Epoch 21/30\n",
      "112/112 [==============================] - 0s 3ms/step - loss: 6.9095e-07 - f1score: 0.5481 - val_loss: 0.0686 - val_f1score: 0.5536\n",
      "Epoch 22/30\n",
      "112/112 [==============================] - 0s 3ms/step - loss: 5.9623e-07 - f1score: 0.5656 - val_loss: 0.0784 - val_f1score: 0.5426\n",
      "Epoch 23/30\n",
      "112/112 [==============================] - 0s 3ms/step - loss: 6.0506e-07 - f1score: 0.5548 - val_loss: 0.0695 - val_f1score: 0.5530\n",
      "Epoch 24/30\n",
      "112/112 [==============================] - 0s 3ms/step - loss: 5.5137e-07 - f1score: 0.5639 - val_loss: 0.0532 - val_f1score: 0.5735\n",
      "Epoch 25/30\n",
      "112/112 [==============================] - 0s 3ms/step - loss: 5.9375e-07 - f1score: 0.5591 - val_loss: 0.0610 - val_f1score: 0.5603\n",
      "Epoch 26/30\n",
      "112/112 [==============================] - 0s 3ms/step - loss: 5.2650e-07 - f1score: 0.5636 - val_loss: 0.0688 - val_f1score: 0.5477\n",
      "Epoch 27/30\n",
      "112/112 [==============================] - 0s 3ms/step - loss: 5.4449e-07 - f1score: 0.5521 - val_loss: 0.0473 - val_f1score: 0.5820\n",
      "Epoch 28/30\n",
      "112/112 [==============================] - 0s 3ms/step - loss: 4.8685e-07 - f1score: 0.5653 - val_loss: 0.0469 - val_f1score: 0.5835\n",
      "Epoch 29/30\n",
      "112/112 [==============================] - 0s 4ms/step - loss: 5.5571e-07 - f1score: 0.5577 - val_loss: 0.0515 - val_f1score: 0.5851\n",
      "Epoch 30/30\n",
      "112/112 [==============================] - 0s 3ms/step - loss: 5.2055e-07 - f1score: 0.5668 - val_loss: 0.0533 - val_f1score: 0.5711\n"
     ]
    }
   ],
   "source": [
    "metrics = [\n",
    "    # keras.metrics.FalseNegatives(name=\"fn\"),\n",
    "    # keras.metrics.FalsePositives(name=\"fp\"),\n",
    "    # keras.metrics.TrueNegatives(name=\"tn\"),\n",
    "    # keras.metrics.TruePositives(name=\"tp\"),\n",
    "    # keras.metrics.Precision(name=\"precision\"),\n",
    "    # keras.metrics.Recall(name=\"recall\"),\n",
    "    keras.metrics.F1Score(name=\"f1score\"),\n",
    "]\n",
    "\n",
    "model_With_Weight = keras.Sequential(\n",
    "    [\n",
    "        keras.Input(shape=train_features.shape[1:]),\n",
    "        keras.layers.Dense(256, activation=\"relu\"),\n",
    "        keras.layers.Dropout(0.3),\n",
    "        keras.layers.Dense(256, activation=\"relu\"),\n",
    "        keras.layers.Dropout(0.3),\n",
    "        keras.layers.Dense(2),\n",
    "    ]\n",
    ")\n",
    "\n",
    "model_With_Weight.compile(\n",
    "    optimizer=keras.optimizers.Adam(1e-3), \n",
    "    loss=keras.losses.CategoricalCrossentropy(from_logits=True), \n",
    "    metrics=metrics\n",
    ")\n",
    "\n",
    "class_weight = {0: weight_for_0, 1: weight_for_1}\n",
    "\n",
    "history_With_Weight = model_With_Weight.fit(\n",
    "    train_features,\n",
    "    train_targets,\n",
    "    batch_size=2048,\n",
    "    epochs=30,\n",
    "    validation_data=(val_features, val_targets),\n",
    "    class_weight=class_weight,\n",
    ")"
   ]
  },
  {
   "cell_type": "code",
   "execution_count": 29,
   "id": "d97dd63b-f532-4cb1-af4a-de5c76f9c916",
   "metadata": {},
   "outputs": [
    {
     "data": {
      "text/plain": [
       "dict_keys(['loss', 'f1score', 'val_loss', 'val_f1score'])"
      ]
     },
     "execution_count": 29,
     "metadata": {},
     "output_type": "execute_result"
    }
   ],
   "source": [
    "history_With_Weight.history.keys()"
   ]
  },
  {
   "cell_type": "code",
   "execution_count": 30,
   "id": "e14d242f-3dc8-4b27-b1c9-b7f17834c713",
   "metadata": {},
   "outputs": [
    {
     "name": "stdout",
     "output_type": "stream",
     "text": [
      "Validation F1 Score: [0.9910319  0.15113351]\n"
     ]
    }
   ],
   "source": [
    "# val_recall = history_With_Weight.history['val_recall'][-1]\n",
    "# val_precision = history_With_Weight.history['val_precision'][-1]\n",
    "val_f1score = history_With_Weight.history['val_f1score'][-1]\n",
    "\n",
    "# print(\"Validation Recall:\", val_recall)\n",
    "# print(\"Validation Precision:\", val_precision)\n",
    "print(\"Validation F1 Score:\", val_f1score)"
   ]
  },
  {
   "cell_type": "markdown",
   "id": "5510b524-a327-43b4-a2d9-e3222cee64b2",
   "metadata": {},
   "source": [
    "## Without Weight"
   ]
  },
  {
   "cell_type": "code",
   "execution_count": 31,
   "id": "455f10cf-9edd-4f14-b9fe-5724eebf7a93",
   "metadata": {},
   "outputs": [
    {
     "name": "stdout",
     "output_type": "stream",
     "text": [
      "Epoch 1/30\n",
      "112/112 [==============================] - 2s 5ms/step - loss: 0.0204 - f1score: 0.5303 - val_loss: 0.0038 - val_f1score: 0.4996\n",
      "Epoch 2/30\n",
      "112/112 [==============================] - 0s 4ms/step - loss: 0.0037 - f1score: 0.6558 - val_loss: 0.0033 - val_f1score: 0.8988\n",
      "Epoch 3/30\n",
      "112/112 [==============================] - 0s 4ms/step - loss: 0.0032 - f1score: 0.8812 - val_loss: 0.0031 - val_f1score: 0.8902\n",
      "Epoch 4/30\n",
      "112/112 [==============================] - 0s 4ms/step - loss: 0.0029 - f1score: 0.8762 - val_loss: 0.0033 - val_f1score: 0.9071\n",
      "Epoch 5/30\n",
      "112/112 [==============================] - 0s 4ms/step - loss: 0.0028 - f1score: 0.8914 - val_loss: 0.0032 - val_f1score: 0.8998\n",
      "Epoch 6/30\n",
      "112/112 [==============================] - 0s 4ms/step - loss: 0.0026 - f1score: 0.9101 - val_loss: 0.0033 - val_f1score: 0.9040\n",
      "Epoch 7/30\n",
      "112/112 [==============================] - 0s 4ms/step - loss: 0.0027 - f1score: 0.8969 - val_loss: 0.0036 - val_f1score: 0.8958\n",
      "Epoch 8/30\n",
      "112/112 [==============================] - 0s 4ms/step - loss: 0.0026 - f1score: 0.9095 - val_loss: 0.0040 - val_f1score: 0.8956\n",
      "Epoch 9/30\n",
      "112/112 [==============================] - 0s 4ms/step - loss: 0.0025 - f1score: 0.9108 - val_loss: 0.0039 - val_f1score: 0.9161\n",
      "Epoch 10/30\n",
      "112/112 [==============================] - 0s 4ms/step - loss: 0.0029 - f1score: 0.9122 - val_loss: 0.0037 - val_f1score: 0.8881\n",
      "Epoch 11/30\n",
      "112/112 [==============================] - 0s 4ms/step - loss: 0.0027 - f1score: 0.9098 - val_loss: 0.0039 - val_f1score: 0.8998\n",
      "Epoch 12/30\n",
      "112/112 [==============================] - 0s 4ms/step - loss: 0.0028 - f1score: 0.9121 - val_loss: 0.0040 - val_f1score: 0.8840\n",
      "Epoch 13/30\n",
      "112/112 [==============================] - 0s 4ms/step - loss: 0.0025 - f1score: 0.9195 - val_loss: 0.0034 - val_f1score: 0.8967\n",
      "Epoch 14/30\n",
      "112/112 [==============================] - 0s 4ms/step - loss: 0.0023 - f1score: 0.9166 - val_loss: 0.0043 - val_f1score: 0.8923\n",
      "Epoch 15/30\n",
      "112/112 [==============================] - 0s 4ms/step - loss: 0.0025 - f1score: 0.9220 - val_loss: 0.0041 - val_f1score: 0.9131\n",
      "Epoch 16/30\n",
      "112/112 [==============================] - 0s 4ms/step - loss: 0.0025 - f1score: 0.9218 - val_loss: 0.0044 - val_f1score: 0.9078\n",
      "Epoch 17/30\n",
      "112/112 [==============================] - 0s 4ms/step - loss: 0.0027 - f1score: 0.9228 - val_loss: 0.0064 - val_f1score: 0.9113\n",
      "Epoch 18/30\n",
      "112/112 [==============================] - 0s 4ms/step - loss: 0.0058 - f1score: 0.9099 - val_loss: 0.0053 - val_f1score: 0.8998\n",
      "Epoch 19/30\n",
      "112/112 [==============================] - 0s 4ms/step - loss: 0.0024 - f1score: 0.9161 - val_loss: 0.0049 - val_f1score: 0.9131\n",
      "Epoch 20/30\n",
      "112/112 [==============================] - 0s 4ms/step - loss: 0.0022 - f1score: 0.9226 - val_loss: 0.0059 - val_f1score: 0.9144\n",
      "Epoch 21/30\n",
      "112/112 [==============================] - 0s 4ms/step - loss: 0.0019 - f1score: 0.9299 - val_loss: 0.0050 - val_f1score: 0.9078\n",
      "Epoch 22/30\n",
      "112/112 [==============================] - 0s 4ms/step - loss: 0.0017 - f1score: 0.9255 - val_loss: 0.0049 - val_f1score: 0.9041\n",
      "Epoch 23/30\n",
      "112/112 [==============================] - 0s 4ms/step - loss: 0.0016 - f1score: 0.9283 - val_loss: 0.0049 - val_f1score: 0.9144\n",
      "Epoch 24/30\n",
      "112/112 [==============================] - 0s 4ms/step - loss: 0.0017 - f1score: 0.9218 - val_loss: 0.0062 - val_f1score: 0.8783\n",
      "Epoch 25/30\n",
      "112/112 [==============================] - 0s 4ms/step - loss: 0.0018 - f1score: 0.9231 - val_loss: 0.0081 - val_f1score: 0.9126\n",
      "Epoch 26/30\n",
      "112/112 [==============================] - 0s 4ms/step - loss: 0.0016 - f1score: 0.9256 - val_loss: 0.0065 - val_f1score: 0.9080\n",
      "Epoch 27/30\n",
      "112/112 [==============================] - 0s 4ms/step - loss: 0.0015 - f1score: 0.9209 - val_loss: 0.0058 - val_f1score: 0.8978\n",
      "Epoch 28/30\n",
      "112/112 [==============================] - 0s 4ms/step - loss: 0.0017 - f1score: 0.9225 - val_loss: 0.0059 - val_f1score: 0.8957\n",
      "Epoch 29/30\n",
      "112/112 [==============================] - 0s 4ms/step - loss: 0.0019 - f1score: 0.9234 - val_loss: 0.0063 - val_f1score: 0.9009\n",
      "Epoch 30/30\n",
      "112/112 [==============================] - 0s 4ms/step - loss: 0.0017 - f1score: 0.9296 - val_loss: 0.0062 - val_f1score: 0.8866\n"
     ]
    }
   ],
   "source": [
    "import keras\n",
    "\n",
    "model_Without_Weight = keras.Sequential(\n",
    "    [\n",
    "        keras.Input(shape=train_features.shape[1:]),\n",
    "        keras.layers.Dense(256, activation=\"relu\"),\n",
    "        keras.layers.Dense(256, activation=\"relu\"),\n",
    "        keras.layers.Dropout(0.3),\n",
    "        keras.layers.Dense(256, activation=\"relu\"),\n",
    "        keras.layers.Dropout(0.3),\n",
    "        keras.layers.Dense(2),\n",
    "    ]\n",
    ")\n",
    "\n",
    "model_Without_Weight.compile(\n",
    "    optimizer=keras.optimizers.Adam(1e-2), loss=tf.losses.CategoricalCrossentropy(from_logits=True), metrics=metrics\n",
    ")\n",
    "\n",
    "history_Without_Weight = model_Without_Weight.fit(\n",
    "    train_features,\n",
    "    train_targets,\n",
    "    batch_size=2048,\n",
    "    epochs=30,\n",
    "    validation_data=(val_features, val_targets),\n",
    ")"
   ]
  },
  {
   "cell_type": "code",
   "execution_count": 32,
   "id": "62d74988-7b02-4780-a987-12db40243348",
   "metadata": {},
   "outputs": [
    {
     "name": "stdout",
     "output_type": "stream",
     "text": [
      "Validation F1 Score: [0.99957794 0.77358496]\n"
     ]
    }
   ],
   "source": [
    "# val_recall = history_Without_Weight.history['val_recall'][-1]\n",
    "# val_precision = history_Without_Weight.history['val_precision'][-1]\n",
    "val_f1score = history_Without_Weight.history['val_f1score'][-1]\n",
    "\n",
    "# print(\"Validation Recall:\", val_recall)\n",
    "# print(\"Validation Precision:\", val_precision)\n",
    "print(\"Validation F1 Score:\", val_f1score)"
   ]
  },
  {
   "cell_type": "code",
   "execution_count": 33,
   "id": "26682b41-0997-47ac-bbb0-1db85cda37f9",
   "metadata": {},
   "outputs": [
    {
     "data": {
      "image/png": "[encoded data removed]",
      "text/plain": [
       "<Figure size 2000x800 with 1 Axes>"
      ]
     },
     "metadata": {},
     "output_type": "display_data"
    }
   ],
   "source": [
    "import matplotlib.pyplot as plt\n",
    "\n",
    "plt.figure(figsize=(20, 8))\n",
    "\n",
    "# plt.subplot(2, 3, 1);plt.plot(history_With_Weight.history['val_recall'], color='red')\n",
    "# plt.plot(history_Without_Weight.history['val_recall'], color='blue');plt.title('val Recall')\n",
    "\n",
    "# plt.subplot(2, 3, 2);plt.plot(history_With_Weight.history['val_precision'], color='red')\n",
    "# plt.plot(history_Without_Weight.history['val_precision'], color='blue');plt.title('val Precision')\n",
    "\n",
    "# plt.subplot(2, 3, 3);plt.plot(history_With_Weight.history['loss'], color='red')\n",
    "# plt.plot(history_Without_Weight.history['loss'], color='blue');plt.title('Loss')\n",
    "\n",
    "# plt.subplot(2, 3, 4);plt.plot(history_With_Weight.history['precision'], color='red')\n",
    "# plt.plot(history_Without_Weight.history['precision'], color='blue');plt.title('Precision')\n",
    "\n",
    "# plt.subplot(2, 3, 5);plt.plot(history_With_Weight.history['recall'], color='red')\n",
    "# plt.plot(history_Without_Weight.history['recall'], color='blue');plt.title('Recall')\n",
    "\n",
    "plt.subplot(2, 3, 6);plt.plot(history_With_Weight.history['f1score'], color='red')\n",
    "plt.plot(history_Without_Weight.history['f1score'], color='blue');plt.title('f1score')\n",
    "\n",
    "plt.tight_layout()\n",
    "plt.show()"
   ]
  },
  {
   "cell_type": "markdown",
   "id": "4994d59b-51ed-4082-baf5-7f9447bd655d",
   "metadata": {},
   "source": [
    "## Without Wight"
   ]
  },
  {
   "cell_type": "code",
   "execution_count": 34,
   "id": "1c56bf8b-dfae-474f-af22-f8673b5cb8a7",
   "metadata": {},
   "outputs": [
    {
     "name": "stdout",
     "output_type": "stream",
     "text": [
      "1781/1781 [==============================] - 1s 741us/step\n",
      "              precision    recall  f1-score   support\n",
      "\n",
      "           0       1.00      1.00      1.00     56864\n",
      "           1       0.85      0.69      0.76        98\n",
      "\n",
      "   micro avg       1.00      1.00      1.00     56962\n",
      "   macro avg       0.92      0.85      0.88     56962\n",
      "weighted avg       1.00      1.00      1.00     56962\n",
      " samples avg       1.00      1.00      1.00     56962\n",
      "\n"
     ]
    },
    {
     "name": "stderr",
     "output_type": "stream",
     "text": [
      "/home/syydmr/miniconda3/envs/tf15/lib/python3.11/site-packages/sklearn/metrics/_classification.py:1497: UndefinedMetricWarning: Precision is ill-defined and being set to 0.0 in samples with no predicted labels. Use `zero_division` parameter to control this behavior.\n",
      "  _warn_prf(average, modifier, f\"{metric.capitalize()} is\", len(result))\n"
     ]
    }
   ],
   "source": [
    "predictions_without_weight = model_Without_Weight.predict(val_features)\n",
    "threshold = 0.5\n",
    "binary_predictions_without_weight = (predictions_without_weight > threshold).astype(int)\n",
    "print(classification_report(val_targets, binary_predictions_without_weight))"
   ]
  },
  {
   "cell_type": "code",
   "execution_count": 35,
   "id": "39c51586-4e1c-478d-802f-0fc96fa46d6c",
   "metadata": {},
   "outputs": [
    {
     "name": "stdout",
     "output_type": "stream",
     "text": [
      "1781/1781 [==============================] - 1s 752us/step\n"
     ]
    },
    {
     "data": {
      "image/png": "[encoded data removed]",
      "text/plain": [
       "<Figure size 800x600 with 2 Axes>"
      ]
     },
     "metadata": {},
     "output_type": "display_data"
    }
   ],
   "source": [
    "from sklearn.metrics import confusion_matrix\n",
    "import matplotlib.pyplot as plt\n",
    "import seaborn as sns\n",
    "\n",
    "y_pred_probs = model_Without_Weight.predict(val_features)\n",
    "y_pred = np.argmax(y_pred_probs, axis=1)\n",
    "y_true = np.argmax(val_targets, axis=1)\n",
    "\n",
    "conf_matrix = confusion_matrix(y_true, y_pred)\n",
    "\n",
    "# Plot confusion matrix\n",
    "plt.figure(figsize=(8, 6))\n",
    "sns.heatmap(conf_matrix, annot=True, fmt=\"d\", cmap=\"Blues\", \n",
    "            xticklabels=[\"Non-Fraud\", \"Fraud\"], \n",
    "            yticklabels=[\"Non-Fraud\", \"Fraud\"])\n",
    "plt.xlabel(\"Predicted Labels\")\n",
    "plt.ylabel(\"True Labels\")\n",
    "plt.title(\"Confusion Matrix\")\n",
    "plt.show()"
   ]
  },
  {
   "cell_type": "markdown",
   "id": "b490e32e-80ce-46f1-b219-45bfbbab484d",
   "metadata": {},
   "source": [
    "## With wight"
   ]
  },
  {
   "cell_type": "code",
   "execution_count": 36,
   "id": "7d756369-c0f2-40de-ba9f-14af496efe50",
   "metadata": {},
   "outputs": [
    {
     "name": "stdout",
     "output_type": "stream",
     "text": [
      "1781/1781 [==============================] - 1s 754us/step\n",
      "              precision    recall  f1-score   support\n",
      "\n",
      "           0       1.00      0.96      0.98     56864\n",
      "           1       0.17      0.92      0.28        98\n",
      "\n",
      "   micro avg       0.99      0.96      0.98     56962\n",
      "   macro avg       0.58      0.94      0.63     56962\n",
      "weighted avg       1.00      0.96      0.98     56962\n",
      " samples avg       0.96      0.96      0.96     56962\n",
      "\n"
     ]
    },
    {
     "name": "stderr",
     "output_type": "stream",
     "text": [
      "/home/syydmr/miniconda3/envs/tf15/lib/python3.11/site-packages/sklearn/metrics/_classification.py:1497: UndefinedMetricWarning: Precision is ill-defined and being set to 0.0 in samples with no predicted labels. Use `zero_division` parameter to control this behavior.\n",
      "  _warn_prf(average, modifier, f\"{metric.capitalize()} is\", len(result))\n"
     ]
    }
   ],
   "source": [
    "predictions_with_weight = model_With_Weight.predict(val_features)\n",
    "binary_predictions_with_weight = (predictions_with_weight > threshold).astype(int)\n",
    "print(classification_report(val_targets, binary_predictions_with_weight))"
   ]
  },
  {
   "cell_type": "code",
   "execution_count": 37,
   "id": "e62705b3-85ee-4133-b5a2-943eacdd2901",
   "metadata": {},
   "outputs": [
    {
     "name": "stdout",
     "output_type": "stream",
     "text": [
      "1781/1781 [==============================] - 1s 764us/step\n"
     ]
    },
    {
     "data": {
      "image/png": "[encoded data removed]",
      "text/plain": [
       "<Figure size 800x600 with 2 Axes>"
      ]
     },
     "metadata": {},
     "output_type": "display_data"
    }
   ],
   "source": [
    "from sklearn.metrics import confusion_matrix\n",
    "import matplotlib.pyplot as plt\n",
    "import seaborn as sns\n",
    "\n",
    "y_pred_probs = model_With_Weight.predict(val_features)\n",
    "y_pred = np.argmax(y_pred_probs, axis=1)\n",
    "y_true = np.argmax(val_targets, axis=1)\n",
    "\n",
    "conf_matrix = confusion_matrix(y_true, y_pred)\n",
    "\n",
    "plt.figure(figsize=(8, 6))\n",
    "sns.heatmap(conf_matrix, annot=True, fmt=\"d\", cmap=\"Blues\", \n",
    "            xticklabels=[\"Non-Fraud\", \"Fraud\"], \n",
    "            yticklabels=[\"Non-Fraud\", \"Fraud\"])\n",
    "plt.xlabel(\"Predicted Labels\")\n",
    "plt.ylabel(\"True Labels\")\n",
    "plt.title(\"Confusion Matrix\")\n",
    "plt.show()"
   ]
  },
  {
   "cell_type": "code",
   "execution_count": null,
   "id": "84e1f022-55e5-4dcd-a601-2ee29d5c3455",
   "metadata": {},
   "outputs": [],
   "source": []
  },
  {
   "cell_type": "code",
   "execution_count": null,
   "id": "18bfbed6-eb22-4102-96d5-24e11b8ba7e5",
   "metadata": {},
   "outputs": [],
   "source": []
  }
 ],
 "metadata": {
  "kernelspec": {
   "display_name": "Python 3 (ipykernel)",
   "language": "python",
   "name": "python3"
  },
  "language_info": {
   "codemirror_mode": {
    "name": "ipython",
    "version": 3
   },
   "file_extension": ".py",
   "mimetype": "text/x-python",
   "name": "python",
   "nbconvert_exporter": "python",
   "pygments_lexer": "ipython3",
   "version": "3.11.5"
  }
 },
 "nbformat": 4,
 "nbformat_minor": 5
}
